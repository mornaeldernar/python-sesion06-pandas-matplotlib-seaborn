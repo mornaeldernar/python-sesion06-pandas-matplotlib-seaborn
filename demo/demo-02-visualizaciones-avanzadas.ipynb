{
  "cells": [
    {
      "cell_type": "markdown",
      "metadata": {},
      "source": [
        "# Demo 2: Visualizaciones Avanzadas en E-commerce\n",
        "\n",
        "En esta demostración, aprenderemos a crear visualizaciones más avanzadas y análisis interactivos para datos de e-commerce."
      ]
    },
    {
      "cell_type": "code",
      "execution_count": 2,
      "metadata": {},
      "outputs": [],
      "source": [
        "# Importar bibliotecas necesarias\n",
        "import pandas as pd\n",
        "import numpy as np\n",
        "import matplotlib.pyplot as plt\n",
        "import seaborn as sns\n",
        "from IPython.display import display\n",
        "\n",
        "# Configurar visualización\n",
        "plt.style.use('Solarize_Light2')\n",
        "%matplotlib inline\n",
        "sns.set_palette('husl')\n",
        "\n",
        "# Configurar pandas\n",
        "pd.set_option('display.max_columns', None)\n",
        "pd.set_option('display.float_format', lambda x: '%.2f' % x)"
      ]
    },
    {
      "cell_type": "markdown",
      "metadata": {},
      "source": [
        "## 1. Generación de Datos Enriquecidos"
      ]
    },
    {
      "cell_type": "code",
      "execution_count": null,
      "metadata": {},
      "outputs": [],
      "source": [
        "# Generar datos más detallados\n",
        "np.random.seed(42)\n",
        "\n",
        "# Crear fechas para un año\n",
        "fechas = pd.date_range('2024-01-01', '2024-12-31', freq='D')\n",
        "n_dias = len(fechas)\n",
        "\n",
        "# Productos y sus características\n",
        "productos = {\n",
        "    'Laptop Pro': {'categoria': 'Electrónica', 'precio_base': 1200},\n",
        "    'Smartphone X': {'categoria': 'Electrónica', 'precio_base': 800},\n",
        "    'Tablet Air': {'categoria': 'Electrónica', 'precio_base': 500},\n",
        "    'Smartwatch Elite': {'categoria': 'Accesorios', 'precio_base': 300},\n",
        "    'Auriculares Pro': {'categoria': 'Accesorios', 'precio_base': 200},\n",
        "    'Cargador Rápido': {'categoria': 'Accesorios', 'precio_base': 50}\n",
        "}\n",
        "\n",
        "# Generar datos de ventas\n",
        "data = []\n",
        "for fecha in fechas:\n",
        "    # Simular más ventas en fines de semana\n",
        "    n_ventas = np.random.randint(5, 15) if fecha.weekday() >= 5 else np.random.randint(3, 10)\n",
        "    \n",
        "    for _ in range(n_ventas):\n",
        "        producto = np.random.choice(list(productos.keys()))\n",
        "        precio_base = productos[producto]['precio_base']\n",
        "        # Agregar variación al precio (+-10%)\n",
        "        precio = precio_base * np.random.uniform(0.9, 1.1)\n",
        "        \n",
        "        data.append({\n",
        "            'fecha': fecha,\n",
        "            'producto': producto,\n",
        "            'categoria': productos[producto]['categoria'],\n",
        "            'precio': round(precio, 2),\n",
        "            'cantidad': np.random.randint(1, 4),\n",
        "            'region': np.random.choice(['Norte', 'Sur', 'Este', 'Oeste']),\n",
        "            'canal': np.random.choice(['Online', 'Tienda', 'Distribuidor']),\n",
        "            'satisfaccion': np.random.randint(1, 6)\n",
        "        })\n",
        "\n",
        "# Crear DataFrame\n",
        "df = pd.DataFrame(data)\n",
        "\n",
        "# Agregar columnas derivadas\n",
        "df['ventas'] = df['precio'] * df['cantidad']\n",
        "df['mes'] = df['fecha'].dt.month\n",
        "df['dia_semana'] = df['fecha'].dt.day_name()\n",
        "df['semana'] = df['fecha'].dt.isocalendar().week\n",
        "\n",
        "print('Dataset generado con éxito. Dimensiones:', df.shape)\n",
        "df.head()"
      ]
    },
    {
      "cell_type": "markdown",
      "metadata": {},
      "source": [
        "## 2. Análisis de Tendencias Temporales"
      ]
    },
    {
      "cell_type": "code",
      "execution_count": null,
      "metadata": {},
      "outputs": [],
      "source": [
        "# Crear visualizaciones de tendencias\n",
        "fig, axes = plt.subplots(2, 1, figsize=(15, 12))\n",
        "\n",
        "# 1. Tendencia de ventas mensuales por categoría\n",
        "ventas_mensuales = df.groupby(['mes', 'categoria'])['ventas'].sum().unstack()\n",
        "ventas_mensuales.plot(kind='line', marker='o', ax=axes[0])\n",
        "axes[0].set_title('Tendencia de Ventas Mensuales por Categoría')\n",
        "axes[0].set_xlabel('Mes')\n",
        "axes[0].set_ylabel('Ventas ($)')\n",
        "axes[0].legend(title='Categoría')\n",
        "axes[0].grid(True)\n",
        "\n",
        "# 2. Distribución de ventas por día de la semana\n",
        "order = ['Monday', 'Tuesday', 'Wednesday', 'Thursday', 'Friday', 'Saturday', 'Sunday']\n",
        "sns.boxplot(data=df, x='dia_semana', y='ventas', order=order, ax=axes[1])\n",
        "axes[1].set_title('Distribución de Ventas por Día de la Semana')\n",
        "axes[1].set_xlabel('Día')\n",
        "axes[1].set_ylabel('Ventas ($)')\n",
        "axes[1].tick_params(axis='x', rotation=45)\n",
        "\n",
        "plt.tight_layout()\n",
        "plt.show()\n",
        "\n",
        "# Estadísticas por día de la semana\n",
        "stats_dia = df.groupby('dia_semana')['ventas'].agg(['mean', 'count', 'sum']).round(2)\n",
        "stats_dia.index = pd.CategoricalIndex(stats_dia.index, categories=order)\n",
        "stats_dia = stats_dia.sort_index()\n",
        "display(stats_dia)"
      ]
    },
    {
      "cell_type": "markdown",
      "metadata": {},
      "source": [
        "## 3. Análisis de Productos y Canales"
      ]
    },
    {
      "cell_type": "code",
      "execution_count": null,
      "metadata": {},
      "outputs": [],
      "source": [
        "# Crear matriz de ventas por producto y canal\n",
        "matriz_ventas = pd.pivot_table(\n",
        "    df,\n",
        "    values='ventas',\n",
        "    index='producto',\n",
        "    columns='canal',\n",
        "    aggfunc='sum',\n",
        "    margins=True\n",
        ").round(2)\n",
        "\n",
        "# Calcular porcentajes por canal\n",
        "matriz_pct = matriz_ventas.div(matriz_ventas['All'], axis=0) * 100\n",
        "\n",
        "# Visualizar distribución\n",
        "plt.figure(figsize=(12, 6))\n",
        "sns.heatmap(matriz_pct.iloc[:-1, :-1], annot=True, fmt='.1f', cmap='YlOrRd')\n",
        "plt.title('Distribución de Ventas por Producto y Canal (%)')\n",
        "plt.xlabel('Canal')\n",
        "plt.ylabel('Producto')\n",
        "plt.tight_layout()\n",
        "plt.show()\n",
        "\n",
        "# Mostrar matriz de ventas\n",
        "print('\\nMatriz de Ventas por Producto y Canal:')\n",
        "display(matriz_ventas)"
      ]
    },
    {
      "cell_type": "markdown",
      "metadata": {},
      "source": [
        "## 4. Análisis de Satisfacción del Cliente"
      ]
    },
    {
      "cell_type": "code",
      "execution_count": null,
      "metadata": {},
      "outputs": [],
      "source": [
        "# Crear visualizaciones de satisfacción\n",
        "fig, axes = plt.subplots(2, 2, figsize=(15, 12))\n",
        "\n",
        "# 1. Distribución general de satisfacción\n",
        "sns.countplot(data=df, x='satisfaccion', ax=axes[0,0])\n",
        "axes[0,0].set_title('Distribución de Niveles de Satisfacción')\n",
        "axes[0,0].set_xlabel('Nivel de Satisfacción')\n",
        "axes[0,0].set_ylabel('Número de Clientes')\n",
        "\n",
        "# 2. Satisfacción promedio por producto\n",
        "df.groupby('producto')['satisfaccion'].mean().sort_values().plot(kind='barh', ax=axes[0,1])\n",
        "axes[0,1].set_title('Satisfacción Promedio por Producto')\n",
        "axes[0,1].set_xlabel('Satisfacción Promedio')\n",
        "\n",
        "# 3. Relación entre precio y satisfacción\n",
        "sns.boxplot(data=df, x='satisfaccion', y='precio', ax=axes[1,0])\n",
        "axes[1,0].set_title('Relación entre Precio y Satisfacción')\n",
        "axes[1,0].set_xlabel('Nivel de Satisfacción')\n",
        "axes[1,0].set_ylabel('Precio ($)')\n",
        "\n",
        "# 4. Satisfacción por canal\n",
        "sns.violinplot(data=df, x='canal', y='satisfaccion', ax=axes[1,1])\n",
        "axes[1,1].set_title('Distribución de Satisfacción por Canal')\n",
        "axes[1,1].set_xlabel('Canal')\n",
        "axes[1,1].set_ylabel('Nivel de Satisfacción')\n",
        "\n",
        "plt.tight_layout()\n",
        "plt.show()\n",
        "\n",
        "# Estadísticas de satisfacción\n",
        "stats_satisfaccion = df.groupby('producto').agg({\n",
        "    'satisfaccion': ['mean', 'count', 'std'],\n",
        "    'ventas': 'sum'\n",
        "}).round(2)\n",
        "\n",
        "stats_satisfaccion.columns = ['Satisfacción Media', 'Número de Reviews', 'Desv. Estándar', 'Ventas Totales']\n",
        "display(stats_satisfaccion.sort_values('Satisfacción Media', ascending=False))"
      ]
    },
    {
      "cell_type": "markdown",
      "metadata": {},
      "source": [
        "## 5. Análisis de Correlaciones y Patrones"
      ]
    },
    {
      "cell_type": "code",
      "execution_count": null,
      "metadata": {},
      "outputs": [],
      "source": [
        "# Seleccionar variables numéricas\n",
        "vars_numericas = ['precio', 'cantidad', 'ventas', 'satisfaccion']\n",
        "\n",
        "# Calcular correlaciones\n",
        "correlaciones = df[vars_numericas].corr()\n",
        "\n",
        "# Visualizar matriz de correlación\n",
        "plt.figure(figsize=(10, 8))\n",
        "sns.heatmap(correlaciones, annot=True, cmap='coolwarm', center=0)\n",
        "plt.title('Matriz de Correlación - Variables Numéricas')\n",
        "plt.tight_layout()\n",
        "plt.show()\n",
        "\n",
        "# Análisis de tendencias por categoría y canal\n",
        "tendencias = df.groupby(['categoria', 'canal']).agg({\n",
        "    'ventas': ['mean', 'sum', 'count'],\n",
        "    'satisfaccion': 'mean'\n",
        "}).round(2)\n",
        "\n",
        "tendencias.columns = ['Venta Promedio', 'Ventas Totales', 'Número de Ventas', 'Satisfacción Media']\n",
        "display(tendencias)"
      ]
    }
  ],
  "metadata": {
    "kernelspec": {
      "display_name": ".venv",
      "language": "python",
      "name": "python3"
    },
    "language_info": {
      "codemirror_mode": {
        "name": "ipython",
        "version": 3
      },
      "file_extension": ".py",
      "mimetype": "text/x-python",
      "name": "python",
      "nbconvert_exporter": "python",
      "pygments_lexer": "ipython3",
      "version": "3.12.1"
    }
  },
  "nbformat": 4,
  "nbformat_minor": 4
}
