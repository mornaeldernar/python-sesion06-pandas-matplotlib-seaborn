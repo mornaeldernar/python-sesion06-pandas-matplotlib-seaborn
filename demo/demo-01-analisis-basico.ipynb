{
  "cells": [
    {
      "cell_type": "markdown",
      "metadata": {},
      "source": [
        "# Demo 1: Análisis Básico de Datos E-commerce\n",
        "\n",
        "En esta demostración, aprenderemos a realizar un análisis básico de datos de e-commerce usando pandas."
      ]
    },
    {
      "cell_type": "code",
      "execution_count": null,
      "metadata": {},
      "outputs": [],
      "source": [
        "# Importar bibliotecas necesarias\n",
        "import pandas as pd\n",
        "import numpy as np\n",
        "import matplotlib.pyplot as plt\n",
        "import seaborn as sns\n",
        "\n",
        "# Configurar visualización\n",
        "plt.style.use('Solarize_Light2')\n",
        "%matplotlib inline\n",
        "\n",
        "# Configurar opciones de pandas\n",
        "pd.set_option('display.max_columns', None)\n",
        "pd.set_option('display.float_format', lambda x: '%.2f' % x)\n",
        "\n",
        "print('Bibliotecas importadas correctamente')"
      ]
    },
    {
      "cell_type": "code",
      "execution_count": null,
      "metadata": {},
      "outputs": [],
      "source": [
        "# Crear dataset de ejemplo\n",
        "np.random.seed(42)  # Para reproducibilidad\n",
        "\n",
        "# Crear datos de ventas\n",
        "data = {\n",
        "    'fecha': pd.date_range('2024-01-01', periods=100),\n",
        "    'producto': np.random.choice(['Laptop', 'Smartphone', 'Tablet', 'Smartwatch'], 100),\n",
        "    'categoria': np.random.choice(['Electrónica', 'Accesorios'], 100),\n",
        "    'precio': np.random.uniform(100, 1000, 100).round(2),\n",
        "    'cantidad': np.random.randint(1, 5, 100),\n",
        "    'region': np.random.choice(['Norte', 'Sur', 'Este', 'Oeste'], 100)\n",
        "}\n",
        "\n",
        "# Crear DataFrame\n",
        "df = pd.DataFrame(data)\n",
        "\n",
        "# Mostrar las primeras filas\n",
        "print('Primeras 5 filas del DataFrame:')\n",
        "df.head()"
      ]
    },
    {
      "cell_type": "markdown",
      "metadata": {},
      "source": [
        "## 1. Exploración Inicial de Datos"
      ]
    },
    {
      "cell_type": "code",
      "execution_count": null,
      "metadata": {},
      "outputs": [],
      "source": [
        "# Información básica del DataFrame\n",
        "print('Información del DataFrame:')\n",
        "df.info()\n",
        "\n",
        "print('\\nEstadísticas descriptivas:')\n",
        "df.describe()\n",
        "\n",
        "print('\\nValores únicos por columna:')\n",
        "for columna in ['producto', 'categoria', 'region']:\n",
        "    print(f'\\n{columna.title()}:')\n",
        "    print(df[columna].value_counts())"
      ]
    },
    {
      "cell_type": "markdown",
      "metadata": {},
      "source": [
        "## 2. Análisis de Ventas"
      ]
    },
    {
      "cell_type": "code",
      "execution_count": null,
      "metadata": {},
      "outputs": [],
      "source": [
        "# Calcular ventas\n",
        "df['ventas'] = df['precio'] * df['cantidad']\n",
        "\n",
        "# Análisis por categoría\n",
        "print('Análisis de ventas por categoría:')\n",
        "ventas_categoria = df.groupby('categoria').agg({\n",
        "    'ventas': ['sum', 'mean', 'count'],\n",
        "    'cantidad': 'sum'\n",
        "}).round(2)\n",
        "\n",
        "display(ventas_categoria)\n",
        "\n",
        "# Análisis por producto\n",
        "print('\\nVentas por producto:')\n",
        "ventas_producto = df.groupby('producto')['ventas'].sum().sort_values(ascending=False)\n",
        "display(ventas_producto)"
      ]
    },
    {
      "cell_type": "markdown",
      "metadata": {},
      "source": [
        "## 3. Análisis Temporal"
      ]
    },
    {
      "cell_type": "code",
      "execution_count": null,
      "metadata": {},
      "outputs": [],
      "source": [
        "# Análisis temporal\n",
        "ventas_diarias = df.groupby('fecha')['ventas'].sum()\n",
        "ventas_promedio = ventas_diarias.mean()\n",
        "\n",
        "# Calcular tendencia con promedio móvil\n",
        "tendencia = ventas_diarias.rolling(window=7).mean()\n",
        "\n",
        "# Visualizar tendencia\n",
        "plt.figure(figsize=(12, 6))\n",
        "plt.plot(ventas_diarias.index, ventas_diarias.values, label='Ventas diarias', alpha=0.5)\n",
        "plt.plot(tendencia.index, tendencia.values, label='Tendencia (7 días)', linewidth=2)\n",
        "plt.axhline(y=ventas_promedio, color='r', linestyle='--', label='Promedio')\n",
        "\n",
        "plt.title('Tendencia de Ventas Diarias')\n",
        "plt.xlabel('Fecha')\n",
        "plt.ylabel('Ventas ($)')\n",
        "plt.legend()\n",
        "plt.xticks(rotation=45)\n",
        "plt.tight_layout()\n",
        "plt.show()"
      ]
    },
    {
      "cell_type": "markdown",
      "metadata": {},
      "source": [
        "## 4. Análisis de Distribución"
      ]
    },
    {
      "cell_type": "code",
      "execution_count": null,
      "metadata": {},
      "outputs": [],
      "source": [
        "# Crear subplot con diferentes visualizaciones\n",
        "fig, axes = plt.subplots(2, 2, figsize=(15, 12))\n",
        "\n",
        "# 1. Distribución de precios\n",
        "sns.histplot(data=df, x='precio', bins=20, ax=axes[0,0])\n",
        "axes[0,0].set_title('Distribución de Precios')\n",
        "\n",
        "# 2. Ventas por categoría\n",
        "df.groupby('categoria')['ventas'].sum().plot(kind='bar', ax=axes[0,1])\n",
        "axes[0,1].set_title('Ventas Totales por Categoría')\n",
        "\n",
        "# 3. Box plot de precios por producto\n",
        "sns.boxplot(data=df, x='producto', y='precio', ax=axes[1,0])\n",
        "axes[1,0].set_title('Distribución de Precios por Producto')\n",
        "axes[1,0].tick_params(axis='x', rotation=45)\n",
        "\n",
        "# 4. Ventas por región\n",
        "df.groupby('region')['ventas'].sum().plot(kind='pie', ax=axes[1,1], autopct='%1.1f%%')\n",
        "axes[1,1].set_title('Distribución de Ventas por Región')\n",
        "\n",
        "plt.tight_layout()\n",
        "plt.show()"
      ]
    },
    {
      "cell_type": "markdown",
      "metadata": {},
      "source": [
        "## 5. KPIs y Métricas Clave"
      ]
    },
    {
      "cell_type": "code",
      "execution_count": null,
      "metadata": {},
      "outputs": [],
      "source": [
        "# Calcular KPIs\n",
        "kpis = {\n",
        "    'Venta Total': df['ventas'].sum(),\n",
        "    'Ticket Promedio': df['ventas'].mean(),\n",
        "    'Cantidad Total Vendida': df['cantidad'].sum(),\n",
        "    'Número de Transacciones': len(df),\n",
        "    'Precio Promedio': df['precio'].mean()\n",
        "}\n",
        "\n",
        "# Crear DataFrame con KPIs\n",
        "kpis_df = pd.DataFrame(kpis.items(), columns=['Métrica', 'Valor'])\n",
        "kpis_df['Valor'] = kpis_df['Valor'].round(2)\n",
        "\n",
        "print('KPIs Principales:')\n",
        "display(kpis_df)\n",
        "\n",
        "# Top 5 días con mayores ventas\n",
        "print('\\nTop 5 días con mayores ventas:')\n",
        "display(ventas_diarias.sort_values(ascending=False).head())"
      ]
    }
  ],
  "metadata": {
    "kernelspec": {
      "display_name": ".venv",
      "language": "python",
      "name": "python3"
    },
    "language_info": {
      "codemirror_mode": {
        "name": "ipython",
        "version": 3
      },
      "file_extension": ".py",
      "mimetype": "text/x-python",
      "name": "python",
      "nbconvert_exporter": "python",
      "pygments_lexer": "ipython3",
      "version": "3.12.1"
    }
  },
  "nbformat": 4,
  "nbformat_minor": 4
}
