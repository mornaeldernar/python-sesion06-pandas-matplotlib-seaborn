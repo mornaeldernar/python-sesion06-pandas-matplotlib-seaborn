{
  "cells": [
    {
      "cell_type": "markdown",
      "metadata": {},
      "source": [
        "# Laboratorio 1: Análisis Básico de Datos E-commerce\n",
        "\n",
        "En este laboratorio, practicarás el análisis de datos de e-commerce usando pandas y técnicas de visualización.\n",
        "\n",
        "## Objetivos\n",
        "1. Realizar análisis exploratorio de datos\n",
        "2. Calcular métricas clave de ventas\n",
        "3. Crear visualizaciones informativas\n",
        "4. Identificar patrones en los datos\n",
        "\n",
        "## Datos\n",
        "Trabajaremos con un dataset de ventas de e-commerce que incluye información sobre:\n",
        "- Productos y categorías\n",
        "- Precios y cantidades\n",
        "- Fechas de venta\n",
        "- Canales de venta"
      ]
    },
    {
      "cell_type": "markdown",
      "metadata": {},
      "source": [
        "## Ejercicio 1: Preparación y Exploración Inicial\n",
        "\n",
        "### 1.1 Importar Bibliotecas y Configurar Ambiente\n",
        "Importa las bibliotecas necesarias y configura el ambiente de visualización."
      ]
    },
    {
      "cell_type": "code",
      "execution_count": 1,
      "metadata": {},
      "outputs": [],
      "source": [
        "# TODO: Importar las bibliotecas necesarias (pandas, numpy, matplotlib, seaborn)\n",
        "# TODO: Configurar el estilo de visualización\n",
        "# TODO: Configurar las opciones de pandas\n",
        "\n",
        "# Tu código aquí:\n"
      ]
    },
    {
      "cell_type": "markdown",
      "metadata": {},
      "source": [
        "### 1.2 Cargar y Explorar los Datos\n",
        "Vamos a crear un dataset de ejemplo y realizar una exploración inicial."
      ]
    },
    {
      "cell_type": "code",
      "execution_count": null,
      "metadata": {},
      "outputs": [],
      "source": [
        "# Dataset de ejemplo (no modificar)\n",
        "np.random.seed(42)\n",
        "data = {\n",
        "    'fecha': pd.date_range('2024-01-01', periods=1000, freq='H'),\n",
        "    'producto': np.random.choice(['Laptop', 'Smartphone', 'Tablet', 'Auriculares'], 1000),\n",
        "    'categoria': np.random.choice(['Electrónica', 'Accesorios'], 1000),\n",
        "    'precio': np.random.uniform(100, 1000, 1000).round(2),\n",
        "    'cantidad': np.random.randint(1, 5, 1000),\n",
        "    'canal': np.random.choice(['Online', 'Tienda'], 1000)\n",
        "}\n",
        "\n",
        "df = pd.DataFrame(data)\n",
        "\n",
        "# TODO: Realizar exploración inicial\n",
        "# 1. Mostrar las primeras 5 filas\n",
        "# 2. Obtener información del DataFrame\n",
        "# 3. Calcular estadísticas descriptivas\n",
        "# 4. Verificar valores únicos en las columnas categóricas\n",
        "\n",
        "# Tu código aquí:\n"
      ]
    },
    {
      "cell_type": "markdown",
      "metadata": {},
      "source": [
        "## Ejercicio 2: Análisis de Ventas\n",
        "\n",
        "### 2.1 Calcular Métricas de Ventas\n",
        "Calcula las métricas básicas de ventas y crea un resumen."
      ]
    },
    {
      "cell_type": "code",
      "execution_count": null,
      "metadata": {},
      "outputs": [],
      "source": [
        "# TODO: Calcular métricas de ventas\n",
        "# 1. Crear columna de ventas (precio * cantidad)\n",
        "# 2. Calcular ventas totales\n",
        "# 3. Calcular ventas por categoría\n",
        "# 4. Calcular ticket promedio\n",
        "# 5. Identificar los productos más vendidos\n",
        "\n",
        "# Tu código aquí:\n"
      ]
    },
    {
      "cell_type": "markdown",
      "metadata": {},
      "source": [
        "### 2.2 Visualizar Distribución de Ventas\n",
        "Crea visualizaciones para entender la distribución de las ventas."
      ]
    },
    {
      "cell_type": "code",
      "execution_count": null,
      "metadata": {},
      "outputs": [],
      "source": [
        "# TODO: Crear visualizaciones de ventas\n",
        "# 1. Gráfico de barras de ventas por categoría\n",
        "# 2. Gráfico de torta para distribución de ventas por producto\n",
        "# 3. Histograma de montos de venta\n",
        "# 4. Box plot de precios por categoría\n",
        "\n",
        "# Tu código aquí:\n"
      ]
    },
    {
      "cell_type": "markdown",
      "metadata": {},
      "source": [
        "## Ejercicio 3: Análisis Temporal\n",
        "\n",
        "### 3.1 Tendencias de Ventas\n",
        "Analiza cómo varían las ventas a lo largo del tiempo."
      ]
    },
    {
      "cell_type": "code",
      "execution_count": null,
      "metadata": {},
      "outputs": [],
      "source": [
        "# TODO: Análisis temporal\n",
        "# 1. Agrupar ventas por fecha\n",
        "# 2. Calcular promedio móvil\n",
        "# 3. Identificar picos de venta\n",
        "# 4. Visualizar tendencia temporal\n",
        "\n",
        "# Tu código aquí:\n"
      ]
    },
    {
      "cell_type": "markdown",
      "metadata": {},
      "source": [
        "### 3.2 Patrones por Canal de Venta\n",
        "Analiza las diferencias entre canales de venta."
      ]
    },
    {
      "cell_type": "code",
      "execution_count": null,
      "metadata": {},
      "outputs": [],
      "source": [
        "# TODO: Análisis por canal\n",
        "# 1. Comparar ventas por canal\n",
        "# 2. Analizar preferencias de producto por canal\n",
        "# 3. Visualizar distribución de ventas por canal\n",
        "\n",
        "# Tu código aquí:\n"
      ]
    },
    {
      "cell_type": "markdown",
      "metadata": {},
      "source": [
        "## Ejercicio 4: Análisis de Correlaciones\n",
        "Identifica relaciones entre variables numéricas."
      ]
    },
    {
      "cell_type": "code",
      "execution_count": null,
      "metadata": {},
      "outputs": [],
      "source": [
        "# TODO: Análisis de correlaciones\n",
        "# 1. Calcular matriz de correlación\n",
        "# 2. Crear heatmap de correlaciones\n",
        "# 3. Identificar relaciones importantes\n",
        "\n",
        "# Tu código aquí:\n"
      ]
    },
    {
      "cell_type": "markdown",
      "metadata": {},
      "source": [
        "## Ejercicio 5: Reporte Final\n",
        "Prepara un resumen ejecutivo con los hallazgos principales."
      ]
    },
    {
      "cell_type": "markdown",
      "metadata": {},
      "source": [
        "### Principales Hallazgos\n",
        "\n",
        "TODO: Completa esta sección con tus hallazgos principales. Incluye:\n",
        "1. Métricas clave de ventas\n",
        "2. Patrones identificados\n",
        "3. Insights sobre canales de venta\n",
        "4. Recomendaciones basadas en datos\n",
        "\n",
        "Tu análisis aquí:"
      ]
    }
  ],
  "metadata": {
    "kernelspec": {
      "display_name": ".venv",
      "language": "python",
      "name": "python3"
    },
    "language_info": {
      "codemirror_mode": {
        "name": "ipython",
        "version": 3
      },
      "file_extension": ".py",
      "mimetype": "text/x-python",
      "name": "python",
      "nbconvert_exporter": "python",
      "pygments_lexer": "ipython3",
      "version": "3.12.1"
    }
  },
  "nbformat": 4,
  "nbformat_minor": 4
}
